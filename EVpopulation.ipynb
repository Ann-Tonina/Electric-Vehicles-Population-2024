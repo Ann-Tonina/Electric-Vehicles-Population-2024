{
 "cells": [
  {
   "cell_type": "markdown",
   "id": "6b13b001",
   "metadata": {},
   "source": [
    "# DATA UNDERSTANDING"
   ]
  },
  {
   "cell_type": "markdown",
   "id": "6e2471dd",
   "metadata": {},
   "source": [
    "## Load and Inspect the data"
   ]
  },
  {
   "cell_type": "code",
   "execution_count": 1,
   "id": "1f3190fa",
   "metadata": {},
   "outputs": [],
   "source": [
    "# Import necessary Libraries\n",
    "import pandas as pd\n",
    "import numpy as np\n",
    "import matplotlib.pyplot as plt\n",
    "import seaborn as sns\n",
    "import warnings\n",
    "warnings.filterwarnings('ignore')"
   ]
  },
  {
   "cell_type": "code",
   "execution_count": 2,
   "id": "3f86d2b1",
   "metadata": {},
   "outputs": [],
   "source": [
    "# Loading the dataset\n",
    "df = pd.read_csv(\"Electric_Vehicle_Population_Data.csv\")"
   ]
  },
  {
   "cell_type": "code",
   "execution_count": 3,
   "id": "64466f7a",
   "metadata": {},
   "outputs": [
    {
     "data": {
      "application/vnd.microsoft.datawrangler.viewer.v0+json": {
       "columns": [
        {
         "name": "index",
         "rawType": "int64",
         "type": "integer"
        },
        {
         "name": "VIN (1-10)",
         "rawType": "object",
         "type": "string"
        },
        {
         "name": "County",
         "rawType": "object",
         "type": "string"
        },
        {
         "name": "City",
         "rawType": "object",
         "type": "string"
        },
        {
         "name": "State",
         "rawType": "object",
         "type": "string"
        },
        {
         "name": "Postal Code",
         "rawType": "float64",
         "type": "float"
        },
        {
         "name": "Model Year",
         "rawType": "int64",
         "type": "integer"
        },
        {
         "name": "Make",
         "rawType": "object",
         "type": "string"
        },
        {
         "name": "Model",
         "rawType": "object",
         "type": "string"
        },
        {
         "name": "Electric Vehicle Type",
         "rawType": "object",
         "type": "string"
        },
        {
         "name": "Clean Alternative Fuel Vehicle (CAFV) Eligibility",
         "rawType": "object",
         "type": "string"
        },
        {
         "name": "Electric Range",
         "rawType": "int64",
         "type": "integer"
        },
        {
         "name": "Base MSRP",
         "rawType": "int64",
         "type": "integer"
        },
        {
         "name": "Legislative District",
         "rawType": "float64",
         "type": "float"
        },
        {
         "name": "DOL Vehicle ID",
         "rawType": "int64",
         "type": "integer"
        },
        {
         "name": "Vehicle Location",
         "rawType": "object",
         "type": "string"
        },
        {
         "name": "Electric Utility",
         "rawType": "object",
         "type": "string"
        },
        {
         "name": "2020 Census Tract",
         "rawType": "float64",
         "type": "float"
        }
       ],
       "conversionMethod": "pd.DataFrame",
       "ref": "15c4ca16-1696-4f53-bd0d-54afaec023db",
       "rows": [
        [
         "0",
         "5YJYGDEE1L",
         "King",
         "Seattle",
         "WA",
         "98122.0",
         "2020",
         "TESLA",
         "MODEL Y",
         "Battery Electric Vehicle (BEV)",
         "Clean Alternative Fuel Vehicle Eligible",
         "291",
         "0",
         "37.0",
         "125701579",
         "POINT (-122.30839 47.610365)",
         "CITY OF SEATTLE - (WA)|CITY OF TACOMA - (WA)",
         "53033007800.0"
        ],
        [
         "1",
         "7SAYGDEE9P",
         "Snohomish",
         "Bothell",
         "WA",
         "98021.0",
         "2023",
         "TESLA",
         "MODEL Y",
         "Battery Electric Vehicle (BEV)",
         "Eligibility unknown as battery range has not been researched",
         "0",
         "0",
         "1.0",
         "244285107",
         "POINT (-122.179458 47.802589)",
         "PUGET SOUND ENERGY INC",
         "53061051938.0"
        ],
        [
         "2",
         "5YJSA1E4XK",
         "King",
         "Seattle",
         "WA",
         "98109.0",
         "2019",
         "TESLA",
         "MODEL S",
         "Battery Electric Vehicle (BEV)",
         "Clean Alternative Fuel Vehicle Eligible",
         "270",
         "0",
         "36.0",
         "156773144",
         "POINT (-122.34848 47.632405)",
         "CITY OF SEATTLE - (WA)|CITY OF TACOMA - (WA)",
         "53033006800.0"
        ],
        [
         "3",
         "5YJSA1E27G",
         "King",
         "Issaquah",
         "WA",
         "98027.0",
         "2016",
         "TESLA",
         "MODEL S",
         "Battery Electric Vehicle (BEV)",
         "Clean Alternative Fuel Vehicle Eligible",
         "210",
         "0",
         "5.0",
         "165103011",
         "POINT (-122.03646 47.534065)",
         "PUGET SOUND ENERGY INC||CITY OF TACOMA - (WA)",
         "53033032104.0"
        ],
        [
         "4",
         "5YJYGDEE5M",
         "Kitsap",
         "Suquamish",
         "WA",
         "98392.0",
         "2021",
         "TESLA",
         "MODEL Y",
         "Battery Electric Vehicle (BEV)",
         "Eligibility unknown as battery range has not been researched",
         "0",
         "0",
         "23.0",
         "205138552",
         "POINT (-122.55717 47.733415)",
         "PUGET SOUND ENERGY INC",
         "53035940100.0"
        ]
       ],
       "shape": {
        "columns": 17,
        "rows": 5
       }
      },
      "text/html": [
       "<div>\n",
       "<style scoped>\n",
       "    .dataframe tbody tr th:only-of-type {\n",
       "        vertical-align: middle;\n",
       "    }\n",
       "\n",
       "    .dataframe tbody tr th {\n",
       "        vertical-align: top;\n",
       "    }\n",
       "\n",
       "    .dataframe thead th {\n",
       "        text-align: right;\n",
       "    }\n",
       "</style>\n",
       "<table border=\"1\" class=\"dataframe\">\n",
       "  <thead>\n",
       "    <tr style=\"text-align: right;\">\n",
       "      <th></th>\n",
       "      <th>VIN (1-10)</th>\n",
       "      <th>County</th>\n",
       "      <th>City</th>\n",
       "      <th>State</th>\n",
       "      <th>Postal Code</th>\n",
       "      <th>Model Year</th>\n",
       "      <th>Make</th>\n",
       "      <th>Model</th>\n",
       "      <th>Electric Vehicle Type</th>\n",
       "      <th>Clean Alternative Fuel Vehicle (CAFV) Eligibility</th>\n",
       "      <th>Electric Range</th>\n",
       "      <th>Base MSRP</th>\n",
       "      <th>Legislative District</th>\n",
       "      <th>DOL Vehicle ID</th>\n",
       "      <th>Vehicle Location</th>\n",
       "      <th>Electric Utility</th>\n",
       "      <th>2020 Census Tract</th>\n",
       "    </tr>\n",
       "  </thead>\n",
       "  <tbody>\n",
       "    <tr>\n",
       "      <th>0</th>\n",
       "      <td>5YJYGDEE1L</td>\n",
       "      <td>King</td>\n",
       "      <td>Seattle</td>\n",
       "      <td>WA</td>\n",
       "      <td>98122.0</td>\n",
       "      <td>2020</td>\n",
       "      <td>TESLA</td>\n",
       "      <td>MODEL Y</td>\n",
       "      <td>Battery Electric Vehicle (BEV)</td>\n",
       "      <td>Clean Alternative Fuel Vehicle Eligible</td>\n",
       "      <td>291</td>\n",
       "      <td>0</td>\n",
       "      <td>37.0</td>\n",
       "      <td>125701579</td>\n",
       "      <td>POINT (-122.30839 47.610365)</td>\n",
       "      <td>CITY OF SEATTLE - (WA)|CITY OF TACOMA - (WA)</td>\n",
       "      <td>5.303301e+10</td>\n",
       "    </tr>\n",
       "    <tr>\n",
       "      <th>1</th>\n",
       "      <td>7SAYGDEE9P</td>\n",
       "      <td>Snohomish</td>\n",
       "      <td>Bothell</td>\n",
       "      <td>WA</td>\n",
       "      <td>98021.0</td>\n",
       "      <td>2023</td>\n",
       "      <td>TESLA</td>\n",
       "      <td>MODEL Y</td>\n",
       "      <td>Battery Electric Vehicle (BEV)</td>\n",
       "      <td>Eligibility unknown as battery range has not b...</td>\n",
       "      <td>0</td>\n",
       "      <td>0</td>\n",
       "      <td>1.0</td>\n",
       "      <td>244285107</td>\n",
       "      <td>POINT (-122.179458 47.802589)</td>\n",
       "      <td>PUGET SOUND ENERGY INC</td>\n",
       "      <td>5.306105e+10</td>\n",
       "    </tr>\n",
       "    <tr>\n",
       "      <th>2</th>\n",
       "      <td>5YJSA1E4XK</td>\n",
       "      <td>King</td>\n",
       "      <td>Seattle</td>\n",
       "      <td>WA</td>\n",
       "      <td>98109.0</td>\n",
       "      <td>2019</td>\n",
       "      <td>TESLA</td>\n",
       "      <td>MODEL S</td>\n",
       "      <td>Battery Electric Vehicle (BEV)</td>\n",
       "      <td>Clean Alternative Fuel Vehicle Eligible</td>\n",
       "      <td>270</td>\n",
       "      <td>0</td>\n",
       "      <td>36.0</td>\n",
       "      <td>156773144</td>\n",
       "      <td>POINT (-122.34848 47.632405)</td>\n",
       "      <td>CITY OF SEATTLE - (WA)|CITY OF TACOMA - (WA)</td>\n",
       "      <td>5.303301e+10</td>\n",
       "    </tr>\n",
       "    <tr>\n",
       "      <th>3</th>\n",
       "      <td>5YJSA1E27G</td>\n",
       "      <td>King</td>\n",
       "      <td>Issaquah</td>\n",
       "      <td>WA</td>\n",
       "      <td>98027.0</td>\n",
       "      <td>2016</td>\n",
       "      <td>TESLA</td>\n",
       "      <td>MODEL S</td>\n",
       "      <td>Battery Electric Vehicle (BEV)</td>\n",
       "      <td>Clean Alternative Fuel Vehicle Eligible</td>\n",
       "      <td>210</td>\n",
       "      <td>0</td>\n",
       "      <td>5.0</td>\n",
       "      <td>165103011</td>\n",
       "      <td>POINT (-122.03646 47.534065)</td>\n",
       "      <td>PUGET SOUND ENERGY INC||CITY OF TACOMA - (WA)</td>\n",
       "      <td>5.303303e+10</td>\n",
       "    </tr>\n",
       "    <tr>\n",
       "      <th>4</th>\n",
       "      <td>5YJYGDEE5M</td>\n",
       "      <td>Kitsap</td>\n",
       "      <td>Suquamish</td>\n",
       "      <td>WA</td>\n",
       "      <td>98392.0</td>\n",
       "      <td>2021</td>\n",
       "      <td>TESLA</td>\n",
       "      <td>MODEL Y</td>\n",
       "      <td>Battery Electric Vehicle (BEV)</td>\n",
       "      <td>Eligibility unknown as battery range has not b...</td>\n",
       "      <td>0</td>\n",
       "      <td>0</td>\n",
       "      <td>23.0</td>\n",
       "      <td>205138552</td>\n",
       "      <td>POINT (-122.55717 47.733415)</td>\n",
       "      <td>PUGET SOUND ENERGY INC</td>\n",
       "      <td>5.303594e+10</td>\n",
       "    </tr>\n",
       "  </tbody>\n",
       "</table>\n",
       "</div>"
      ],
      "text/plain": [
       "   VIN (1-10)     County       City State  Postal Code  Model Year   Make  \\\n",
       "0  5YJYGDEE1L       King    Seattle    WA      98122.0        2020  TESLA   \n",
       "1  7SAYGDEE9P  Snohomish    Bothell    WA      98021.0        2023  TESLA   \n",
       "2  5YJSA1E4XK       King    Seattle    WA      98109.0        2019  TESLA   \n",
       "3  5YJSA1E27G       King   Issaquah    WA      98027.0        2016  TESLA   \n",
       "4  5YJYGDEE5M     Kitsap  Suquamish    WA      98392.0        2021  TESLA   \n",
       "\n",
       "     Model           Electric Vehicle Type  \\\n",
       "0  MODEL Y  Battery Electric Vehicle (BEV)   \n",
       "1  MODEL Y  Battery Electric Vehicle (BEV)   \n",
       "2  MODEL S  Battery Electric Vehicle (BEV)   \n",
       "3  MODEL S  Battery Electric Vehicle (BEV)   \n",
       "4  MODEL Y  Battery Electric Vehicle (BEV)   \n",
       "\n",
       "   Clean Alternative Fuel Vehicle (CAFV) Eligibility  Electric Range  \\\n",
       "0            Clean Alternative Fuel Vehicle Eligible             291   \n",
       "1  Eligibility unknown as battery range has not b...               0   \n",
       "2            Clean Alternative Fuel Vehicle Eligible             270   \n",
       "3            Clean Alternative Fuel Vehicle Eligible             210   \n",
       "4  Eligibility unknown as battery range has not b...               0   \n",
       "\n",
       "   Base MSRP  Legislative District  DOL Vehicle ID  \\\n",
       "0          0                  37.0       125701579   \n",
       "1          0                   1.0       244285107   \n",
       "2          0                  36.0       156773144   \n",
       "3          0                   5.0       165103011   \n",
       "4          0                  23.0       205138552   \n",
       "\n",
       "                Vehicle Location  \\\n",
       "0   POINT (-122.30839 47.610365)   \n",
       "1  POINT (-122.179458 47.802589)   \n",
       "2   POINT (-122.34848 47.632405)   \n",
       "3   POINT (-122.03646 47.534065)   \n",
       "4   POINT (-122.55717 47.733415)   \n",
       "\n",
       "                                Electric Utility  2020 Census Tract  \n",
       "0   CITY OF SEATTLE - (WA)|CITY OF TACOMA - (WA)       5.303301e+10  \n",
       "1                         PUGET SOUND ENERGY INC       5.306105e+10  \n",
       "2   CITY OF SEATTLE - (WA)|CITY OF TACOMA - (WA)       5.303301e+10  \n",
       "3  PUGET SOUND ENERGY INC||CITY OF TACOMA - (WA)       5.303303e+10  \n",
       "4                         PUGET SOUND ENERGY INC       5.303594e+10  "
      ]
     },
     "execution_count": 3,
     "metadata": {},
     "output_type": "execute_result"
    }
   ],
   "source": [
    "# Check the data head\n",
    "df.head()"
   ]
  },
  {
   "cell_type": "markdown",
   "id": "4c1dc4ed",
   "metadata": {},
   "source": [
    "Based on the above code output it shows 5 Tesla electric vehicles registered in Washington State, primarily in King County. All are Battery Electric Vehicles (BEVs), with models including the Model Y and Model S.\n",
    "\n",
    "However, there are inconsistencies in the data:\n",
    "\n",
    "Electric Range of 0 appears in 3 out of 5 entries, which is likely a garbage or missing value, especially for models like the Model Y or S, which typically have substantial range.\n",
    "\n",
    "Base MSRP is 0 for all entries, suggesting incomplete or unreported pricing data.\n",
    "\n",
    "The \"CAFV Eligibility\" is listed as \"unknown\" for some vehicles, indicating a lack of battery range data.\n",
    "\n",
    "This suggests a need for data cleaning, particularly for range and price fields, before any meaningful analysis or policy decisions can be made from this dataset."
   ]
  },
  {
   "cell_type": "code",
   "execution_count": 4,
   "id": "4ca2d975",
   "metadata": {},
   "outputs": [
    {
     "data": {
      "application/vnd.microsoft.datawrangler.viewer.v0+json": {
       "columns": [
        {
         "name": "index",
         "rawType": "int64",
         "type": "integer"
        },
        {
         "name": "VIN (1-10)",
         "rawType": "object",
         "type": "string"
        },
        {
         "name": "County",
         "rawType": "object",
         "type": "string"
        },
        {
         "name": "City",
         "rawType": "object",
         "type": "string"
        },
        {
         "name": "State",
         "rawType": "object",
         "type": "string"
        },
        {
         "name": "Postal Code",
         "rawType": "float64",
         "type": "float"
        },
        {
         "name": "Model Year",
         "rawType": "int64",
         "type": "integer"
        },
        {
         "name": "Make",
         "rawType": "object",
         "type": "string"
        },
        {
         "name": "Model",
         "rawType": "object",
         "type": "string"
        },
        {
         "name": "Electric Vehicle Type",
         "rawType": "object",
         "type": "string"
        },
        {
         "name": "Clean Alternative Fuel Vehicle (CAFV) Eligibility",
         "rawType": "object",
         "type": "string"
        },
        {
         "name": "Electric Range",
         "rawType": "int64",
         "type": "integer"
        },
        {
         "name": "Base MSRP",
         "rawType": "int64",
         "type": "integer"
        },
        {
         "name": "Legislative District",
         "rawType": "float64",
         "type": "float"
        },
        {
         "name": "DOL Vehicle ID",
         "rawType": "int64",
         "type": "integer"
        },
        {
         "name": "Vehicle Location",
         "rawType": "object",
         "type": "string"
        },
        {
         "name": "Electric Utility",
         "rawType": "object",
         "type": "string"
        },
        {
         "name": "2020 Census Tract",
         "rawType": "float64",
         "type": "float"
        }
       ],
       "conversionMethod": "pd.DataFrame",
       "ref": "e916700c-6390-49f1-9765-0e215fe28d32",
       "rows": [
        [
         "177861",
         "7SAYGDEE3N",
         "Pierce",
         "Bonney Lake",
         "WA",
         "98391.0",
         "2022",
         "TESLA",
         "MODEL Y",
         "Battery Electric Vehicle (BEV)",
         "Eligibility unknown as battery range has not been researched",
         "0",
         "0",
         "31.0",
         "195224452",
         "POINT (-122.183805 47.18062)",
         "PUGET SOUND ENERGY INC||CITY OF TACOMA - (WA)",
         "53053070308.0"
        ],
        [
         "177862",
         "KM8K23AG1P",
         "Mason",
         "Shelton",
         "WA",
         "98584.0",
         "2023",
         "HYUNDAI",
         "KONA ELECTRIC",
         "Battery Electric Vehicle (BEV)",
         "Eligibility unknown as battery range has not been researched",
         "0",
         "0",
         "35.0",
         "228454180",
         "POINT (-123.105305 47.211085)",
         "BONNEVILLE POWER ADMINISTRATION||CITY OF TACOMA - (WA)||PUD NO 3 OF MASON COUNTY",
         "53045960900.0"
        ],
        [
         "177863",
         "5YJYGDEE6M",
         "Grant",
         "Quincy",
         "WA",
         "98848.0",
         "2021",
         "TESLA",
         "MODEL Y",
         "Battery Electric Vehicle (BEV)",
         "Eligibility unknown as battery range has not been researched",
         "0",
         "0",
         "13.0",
         "168797219",
         "POINT (-119.8493873 47.2339933)",
         "PUD NO 2 OF GRANT COUNTY",
         "53025010500.0"
        ],
        [
         "177864",
         "WVGKMPE27M",
         "King",
         "Black Diamond",
         "WA",
         "98010.0",
         "2021",
         "VOLKSWAGEN",
         "ID.4",
         "Battery Electric Vehicle (BEV)",
         "Eligibility unknown as battery range has not been researched",
         "0",
         "0",
         "5.0",
         "182448801",
         "POINT (-122.00451 47.312185)",
         "PUGET SOUND ENERGY INC||CITY OF TACOMA - (WA)",
         "53033031603.0"
        ],
        [
         "177865",
         "5YJ3E1EA8M",
         "Pierce",
         "Tacoma",
         "WA",
         "98422.0",
         "2021",
         "TESLA",
         "MODEL 3",
         "Battery Electric Vehicle (BEV)",
         "Eligibility unknown as battery range has not been researched",
         "0",
         "0",
         "27.0",
         "211464683",
         "POINT (-122.38578 47.28971)",
         "BONNEVILLE POWER ADMINISTRATION||CITY OF TACOMA - (WA)||PENINSULA LIGHT COMPANY",
         "53053940005.0"
        ]
       ],
       "shape": {
        "columns": 17,
        "rows": 5
       }
      },
      "text/html": [
       "<div>\n",
       "<style scoped>\n",
       "    .dataframe tbody tr th:only-of-type {\n",
       "        vertical-align: middle;\n",
       "    }\n",
       "\n",
       "    .dataframe tbody tr th {\n",
       "        vertical-align: top;\n",
       "    }\n",
       "\n",
       "    .dataframe thead th {\n",
       "        text-align: right;\n",
       "    }\n",
       "</style>\n",
       "<table border=\"1\" class=\"dataframe\">\n",
       "  <thead>\n",
       "    <tr style=\"text-align: right;\">\n",
       "      <th></th>\n",
       "      <th>VIN (1-10)</th>\n",
       "      <th>County</th>\n",
       "      <th>City</th>\n",
       "      <th>State</th>\n",
       "      <th>Postal Code</th>\n",
       "      <th>Model Year</th>\n",
       "      <th>Make</th>\n",
       "      <th>Model</th>\n",
       "      <th>Electric Vehicle Type</th>\n",
       "      <th>Clean Alternative Fuel Vehicle (CAFV) Eligibility</th>\n",
       "      <th>Electric Range</th>\n",
       "      <th>Base MSRP</th>\n",
       "      <th>Legislative District</th>\n",
       "      <th>DOL Vehicle ID</th>\n",
       "      <th>Vehicle Location</th>\n",
       "      <th>Electric Utility</th>\n",
       "      <th>2020 Census Tract</th>\n",
       "    </tr>\n",
       "  </thead>\n",
       "  <tbody>\n",
       "    <tr>\n",
       "      <th>177861</th>\n",
       "      <td>7SAYGDEE3N</td>\n",
       "      <td>Pierce</td>\n",
       "      <td>Bonney Lake</td>\n",
       "      <td>WA</td>\n",
       "      <td>98391.0</td>\n",
       "      <td>2022</td>\n",
       "      <td>TESLA</td>\n",
       "      <td>MODEL Y</td>\n",
       "      <td>Battery Electric Vehicle (BEV)</td>\n",
       "      <td>Eligibility unknown as battery range has not b...</td>\n",
       "      <td>0</td>\n",
       "      <td>0</td>\n",
       "      <td>31.0</td>\n",
       "      <td>195224452</td>\n",
       "      <td>POINT (-122.183805 47.18062)</td>\n",
       "      <td>PUGET SOUND ENERGY INC||CITY OF TACOMA - (WA)</td>\n",
       "      <td>5.305307e+10</td>\n",
       "    </tr>\n",
       "    <tr>\n",
       "      <th>177862</th>\n",
       "      <td>KM8K23AG1P</td>\n",
       "      <td>Mason</td>\n",
       "      <td>Shelton</td>\n",
       "      <td>WA</td>\n",
       "      <td>98584.0</td>\n",
       "      <td>2023</td>\n",
       "      <td>HYUNDAI</td>\n",
       "      <td>KONA ELECTRIC</td>\n",
       "      <td>Battery Electric Vehicle (BEV)</td>\n",
       "      <td>Eligibility unknown as battery range has not b...</td>\n",
       "      <td>0</td>\n",
       "      <td>0</td>\n",
       "      <td>35.0</td>\n",
       "      <td>228454180</td>\n",
       "      <td>POINT (-123.105305 47.211085)</td>\n",
       "      <td>BONNEVILLE POWER ADMINISTRATION||CITY OF TACOM...</td>\n",
       "      <td>5.304596e+10</td>\n",
       "    </tr>\n",
       "    <tr>\n",
       "      <th>177863</th>\n",
       "      <td>5YJYGDEE6M</td>\n",
       "      <td>Grant</td>\n",
       "      <td>Quincy</td>\n",
       "      <td>WA</td>\n",
       "      <td>98848.0</td>\n",
       "      <td>2021</td>\n",
       "      <td>TESLA</td>\n",
       "      <td>MODEL Y</td>\n",
       "      <td>Battery Electric Vehicle (BEV)</td>\n",
       "      <td>Eligibility unknown as battery range has not b...</td>\n",
       "      <td>0</td>\n",
       "      <td>0</td>\n",
       "      <td>13.0</td>\n",
       "      <td>168797219</td>\n",
       "      <td>POINT (-119.8493873 47.2339933)</td>\n",
       "      <td>PUD NO 2 OF GRANT COUNTY</td>\n",
       "      <td>5.302501e+10</td>\n",
       "    </tr>\n",
       "    <tr>\n",
       "      <th>177864</th>\n",
       "      <td>WVGKMPE27M</td>\n",
       "      <td>King</td>\n",
       "      <td>Black Diamond</td>\n",
       "      <td>WA</td>\n",
       "      <td>98010.0</td>\n",
       "      <td>2021</td>\n",
       "      <td>VOLKSWAGEN</td>\n",
       "      <td>ID.4</td>\n",
       "      <td>Battery Electric Vehicle (BEV)</td>\n",
       "      <td>Eligibility unknown as battery range has not b...</td>\n",
       "      <td>0</td>\n",
       "      <td>0</td>\n",
       "      <td>5.0</td>\n",
       "      <td>182448801</td>\n",
       "      <td>POINT (-122.00451 47.312185)</td>\n",
       "      <td>PUGET SOUND ENERGY INC||CITY OF TACOMA - (WA)</td>\n",
       "      <td>5.303303e+10</td>\n",
       "    </tr>\n",
       "    <tr>\n",
       "      <th>177865</th>\n",
       "      <td>5YJ3E1EA8M</td>\n",
       "      <td>Pierce</td>\n",
       "      <td>Tacoma</td>\n",
       "      <td>WA</td>\n",
       "      <td>98422.0</td>\n",
       "      <td>2021</td>\n",
       "      <td>TESLA</td>\n",
       "      <td>MODEL 3</td>\n",
       "      <td>Battery Electric Vehicle (BEV)</td>\n",
       "      <td>Eligibility unknown as battery range has not b...</td>\n",
       "      <td>0</td>\n",
       "      <td>0</td>\n",
       "      <td>27.0</td>\n",
       "      <td>211464683</td>\n",
       "      <td>POINT (-122.38578 47.28971)</td>\n",
       "      <td>BONNEVILLE POWER ADMINISTRATION||CITY OF TACOM...</td>\n",
       "      <td>5.305394e+10</td>\n",
       "    </tr>\n",
       "  </tbody>\n",
       "</table>\n",
       "</div>"
      ],
      "text/plain": [
       "        VIN (1-10)  County           City State  Postal Code  Model Year  \\\n",
       "177861  7SAYGDEE3N  Pierce    Bonney Lake    WA      98391.0        2022   \n",
       "177862  KM8K23AG1P   Mason        Shelton    WA      98584.0        2023   \n",
       "177863  5YJYGDEE6M   Grant         Quincy    WA      98848.0        2021   \n",
       "177864  WVGKMPE27M    King  Black Diamond    WA      98010.0        2021   \n",
       "177865  5YJ3E1EA8M  Pierce         Tacoma    WA      98422.0        2021   \n",
       "\n",
       "              Make          Model           Electric Vehicle Type  \\\n",
       "177861       TESLA        MODEL Y  Battery Electric Vehicle (BEV)   \n",
       "177862     HYUNDAI  KONA ELECTRIC  Battery Electric Vehicle (BEV)   \n",
       "177863       TESLA        MODEL Y  Battery Electric Vehicle (BEV)   \n",
       "177864  VOLKSWAGEN           ID.4  Battery Electric Vehicle (BEV)   \n",
       "177865       TESLA        MODEL 3  Battery Electric Vehicle (BEV)   \n",
       "\n",
       "        Clean Alternative Fuel Vehicle (CAFV) Eligibility  Electric Range  \\\n",
       "177861  Eligibility unknown as battery range has not b...               0   \n",
       "177862  Eligibility unknown as battery range has not b...               0   \n",
       "177863  Eligibility unknown as battery range has not b...               0   \n",
       "177864  Eligibility unknown as battery range has not b...               0   \n",
       "177865  Eligibility unknown as battery range has not b...               0   \n",
       "\n",
       "        Base MSRP  Legislative District  DOL Vehicle ID  \\\n",
       "177861          0                  31.0       195224452   \n",
       "177862          0                  35.0       228454180   \n",
       "177863          0                  13.0       168797219   \n",
       "177864          0                   5.0       182448801   \n",
       "177865          0                  27.0       211464683   \n",
       "\n",
       "                       Vehicle Location  \\\n",
       "177861     POINT (-122.183805 47.18062)   \n",
       "177862    POINT (-123.105305 47.211085)   \n",
       "177863  POINT (-119.8493873 47.2339933)   \n",
       "177864     POINT (-122.00451 47.312185)   \n",
       "177865      POINT (-122.38578 47.28971)   \n",
       "\n",
       "                                         Electric Utility  2020 Census Tract  \n",
       "177861      PUGET SOUND ENERGY INC||CITY OF TACOMA - (WA)       5.305307e+10  \n",
       "177862  BONNEVILLE POWER ADMINISTRATION||CITY OF TACOM...       5.304596e+10  \n",
       "177863                           PUD NO 2 OF GRANT COUNTY       5.302501e+10  \n",
       "177864      PUGET SOUND ENERGY INC||CITY OF TACOMA - (WA)       5.303303e+10  \n",
       "177865  BONNEVILLE POWER ADMINISTRATION||CITY OF TACOM...       5.305394e+10  "
      ]
     },
     "execution_count": 4,
     "metadata": {},
     "output_type": "execute_result"
    }
   ],
   "source": [
    "# Check the data head\n",
    "df.tail()"
   ]
  },
  {
   "cell_type": "markdown",
   "id": "2cad3cc5",
   "metadata": {},
   "source": [
    "All five electric vehicles listed are recent Battery Electric Vehicles (BEVs) (model years 2021–2023) from brands like Tesla, Hyundai, and Volkswagen, registered across various Washington counties.\n",
    "\n",
    "However, all entries have missing or zero values for:\n",
    "\n",
    "Electric Range\n",
    "\n",
    "Base MSRP\n",
    "\n",
    "CAFV Eligibility\n",
    "\n",
    "This strongly indicates incomplete or faulty data entry, making the records unreliable for any analysis involving vehicle performance, eligibility, or pricing. Data validation and enrichment are needed before further use."
   ]
  },
  {
   "cell_type": "code",
   "execution_count": 6,
   "id": "1f6ad274",
   "metadata": {},
   "outputs": [
    {
     "data": {
      "text/plain": [
       "(177866, 17)"
      ]
     },
     "execution_count": 6,
     "metadata": {},
     "output_type": "execute_result"
    }
   ],
   "source": [
    "# Check the data shape\n",
    "df.shape"
   ]
  },
  {
   "cell_type": "markdown",
   "id": "51ca3ae4",
   "metadata": {},
   "source": [
    "The output (177866, 17) indicates the shape of the dataset — specifically:\n",
    "\n",
    "177,866 rows (individual electric vehicle records)\n",
    "\n",
    "17 columns (features/attributes per vehicle)\n",
    "\n",
    "🔍 Quick Insight:\n",
    "The dataset is large and comprehensive, suggesting it's a valuable resource for analyzing electric vehicle trends in Washington State. However, based on the earlier sample rows, data quality issues like missing values e.g. in electric range, MSRP etc may need to be addressed before conducting accurate analyses."
   ]
  },
  {
   "cell_type": "code",
   "execution_count": 7,
   "id": "e41a7f82",
   "metadata": {},
   "outputs": [
    {
     "name": "stdout",
     "output_type": "stream",
     "text": [
      "<class 'pandas.core.frame.DataFrame'>\n",
      "RangeIndex: 177866 entries, 0 to 177865\n",
      "Data columns (total 17 columns):\n",
      " #   Column                                             Non-Null Count   Dtype  \n",
      "---  ------                                             --------------   -----  \n",
      " 0   VIN (1-10)                                         177866 non-null  object \n",
      " 1   County                                             177861 non-null  object \n",
      " 2   City                                               177861 non-null  object \n",
      " 3   State                                              177866 non-null  object \n",
      " 4   Postal Code                                        177861 non-null  float64\n",
      " 5   Model Year                                         177866 non-null  int64  \n",
      " 6   Make                                               177866 non-null  object \n",
      " 7   Model                                              177866 non-null  object \n",
      " 8   Electric Vehicle Type                              177866 non-null  object \n",
      " 9   Clean Alternative Fuel Vehicle (CAFV) Eligibility  177866 non-null  object \n",
      " 10  Electric Range                                     177866 non-null  int64  \n",
      " 11  Base MSRP                                          177866 non-null  int64  \n",
      " 12  Legislative District                               177477 non-null  float64\n",
      " 13  DOL Vehicle ID                                     177866 non-null  int64  \n",
      " 14  Vehicle Location                                   177857 non-null  object \n",
      " 15  Electric Utility                                   177861 non-null  object \n",
      " 16  2020 Census Tract                                  177861 non-null  float64\n",
      "dtypes: float64(3), int64(4), object(10)\n",
      "memory usage: 23.1+ MB\n"
     ]
    }
   ],
   "source": [
    "# Chack the data size\n",
    "df.info()"
   ]
  },
  {
   "cell_type": "markdown",
   "id": "140e225c",
   "metadata": {},
   "source": [
    "The dataset contains 177,866 electric vehicle records across 17 columns. While most fields are complete, there are some minor but notable gaps:\n",
    "\n",
    "Missing values in key location fields like:\n",
    "\n",
    "County, City, Postal Code (5 missing)\n",
    "\n",
    "Legislative District (~389 missing)\n",
    "\n",
    "Vehicle Location, Electric Utility, 2020 Census Tract (5–9 missing)\n",
    "\n",
    "Data types are appropriate:\n",
    "\n",
    "Categorical/object: For vehicle details (e.g., Make, Model, CAFV eligibility)\n",
    "\n",
    "Numerical: For year, range, price, district, etc.\n",
    "\n",
    "⚠️ Key Flag:\n",
    "Even though Electric Range and Base MSRP have no nulls, earlier samples show values of 0, indicating garbage or placeholder data that should be cleaned despite appearing complete."
   ]
  },
  {
   "cell_type": "code",
   "execution_count": 8,
   "id": "fce8196a",
   "metadata": {},
   "outputs": [
    {
     "data": {
      "application/vnd.microsoft.datawrangler.viewer.v0+json": {
       "columns": [
        {
         "name": "index",
         "rawType": "object",
         "type": "string"
        },
        {
         "name": "Postal Code",
         "rawType": "float64",
         "type": "float"
        },
        {
         "name": "Model Year",
         "rawType": "float64",
         "type": "float"
        },
        {
         "name": "Electric Range",
         "rawType": "float64",
         "type": "float"
        },
        {
         "name": "Base MSRP",
         "rawType": "float64",
         "type": "float"
        },
        {
         "name": "Legislative District",
         "rawType": "float64",
         "type": "float"
        },
        {
         "name": "DOL Vehicle ID",
         "rawType": "float64",
         "type": "float"
        },
        {
         "name": "2020 Census Tract",
         "rawType": "float64",
         "type": "float"
        }
       ],
       "conversionMethod": "pd.DataFrame",
       "ref": "284d5642-bb66-42fb-8e6a-e68e4410f7e2",
       "rows": [
        [
         "count",
         "177861.0",
         "177866.0",
         "177866.0",
         "177866.0",
         "177477.0",
         "177866.0",
         "177861.0"
        ],
        [
         "mean",
         "98172.45350582758",
         "2020.51551167733",
         "58.842162077069254",
         "1073.1093632284978",
         "29.12748130743702",
         "220231266.05454668",
         "52976721055.55796"
        ],
        [
         "std",
         "2442.45066802155",
         "2.9893839501920065",
         "91.98129769418429",
         "8358.624956091093",
         "14.892168539453765",
         "75849866.12256485",
         "1578046771.1668966"
        ],
        [
         "min",
         "1545.0",
         "1997.0",
         "0.0",
         "0.0",
         "1.0",
         "4385.0",
         "1001020100.0"
        ],
        [
         "25%",
         "98052.0",
         "2019.0",
         "0.0",
         "0.0",
         "18.0",
         "181474348.5",
         "53033009702.0"
        ],
        [
         "50%",
         "98122.0",
         "2022.0",
         "0.0",
         "0.0",
         "33.0",
         "228252237.0",
         "53033029602.0"
        ],
        [
         "75%",
         "98370.0",
         "2023.0",
         "75.0",
         "0.0",
         "42.0",
         "254844512.5",
         "53053073001.0"
        ],
        [
         "max",
         "99577.0",
         "2024.0",
         "337.0",
         "845000.0",
         "49.0",
         "479254772.0",
         "56033000100.0"
        ]
       ],
       "shape": {
        "columns": 7,
        "rows": 8
       }
      },
      "text/html": [
       "<div>\n",
       "<style scoped>\n",
       "    .dataframe tbody tr th:only-of-type {\n",
       "        vertical-align: middle;\n",
       "    }\n",
       "\n",
       "    .dataframe tbody tr th {\n",
       "        vertical-align: top;\n",
       "    }\n",
       "\n",
       "    .dataframe thead th {\n",
       "        text-align: right;\n",
       "    }\n",
       "</style>\n",
       "<table border=\"1\" class=\"dataframe\">\n",
       "  <thead>\n",
       "    <tr style=\"text-align: right;\">\n",
       "      <th></th>\n",
       "      <th>Postal Code</th>\n",
       "      <th>Model Year</th>\n",
       "      <th>Electric Range</th>\n",
       "      <th>Base MSRP</th>\n",
       "      <th>Legislative District</th>\n",
       "      <th>DOL Vehicle ID</th>\n",
       "      <th>2020 Census Tract</th>\n",
       "    </tr>\n",
       "  </thead>\n",
       "  <tbody>\n",
       "    <tr>\n",
       "      <th>count</th>\n",
       "      <td>177861.000000</td>\n",
       "      <td>177866.000000</td>\n",
       "      <td>177866.000000</td>\n",
       "      <td>177866.000000</td>\n",
       "      <td>177477.000000</td>\n",
       "      <td>1.778660e+05</td>\n",
       "      <td>1.778610e+05</td>\n",
       "    </tr>\n",
       "    <tr>\n",
       "      <th>mean</th>\n",
       "      <td>98172.453506</td>\n",
       "      <td>2020.515512</td>\n",
       "      <td>58.842162</td>\n",
       "      <td>1073.109363</td>\n",
       "      <td>29.127481</td>\n",
       "      <td>2.202313e+08</td>\n",
       "      <td>5.297672e+10</td>\n",
       "    </tr>\n",
       "    <tr>\n",
       "      <th>std</th>\n",
       "      <td>2442.450668</td>\n",
       "      <td>2.989384</td>\n",
       "      <td>91.981298</td>\n",
       "      <td>8358.624956</td>\n",
       "      <td>14.892169</td>\n",
       "      <td>7.584987e+07</td>\n",
       "      <td>1.578047e+09</td>\n",
       "    </tr>\n",
       "    <tr>\n",
       "      <th>min</th>\n",
       "      <td>1545.000000</td>\n",
       "      <td>1997.000000</td>\n",
       "      <td>0.000000</td>\n",
       "      <td>0.000000</td>\n",
       "      <td>1.000000</td>\n",
       "      <td>4.385000e+03</td>\n",
       "      <td>1.001020e+09</td>\n",
       "    </tr>\n",
       "    <tr>\n",
       "      <th>25%</th>\n",
       "      <td>98052.000000</td>\n",
       "      <td>2019.000000</td>\n",
       "      <td>0.000000</td>\n",
       "      <td>0.000000</td>\n",
       "      <td>18.000000</td>\n",
       "      <td>1.814743e+08</td>\n",
       "      <td>5.303301e+10</td>\n",
       "    </tr>\n",
       "    <tr>\n",
       "      <th>50%</th>\n",
       "      <td>98122.000000</td>\n",
       "      <td>2022.000000</td>\n",
       "      <td>0.000000</td>\n",
       "      <td>0.000000</td>\n",
       "      <td>33.000000</td>\n",
       "      <td>2.282522e+08</td>\n",
       "      <td>5.303303e+10</td>\n",
       "    </tr>\n",
       "    <tr>\n",
       "      <th>75%</th>\n",
       "      <td>98370.000000</td>\n",
       "      <td>2023.000000</td>\n",
       "      <td>75.000000</td>\n",
       "      <td>0.000000</td>\n",
       "      <td>42.000000</td>\n",
       "      <td>2.548445e+08</td>\n",
       "      <td>5.305307e+10</td>\n",
       "    </tr>\n",
       "    <tr>\n",
       "      <th>max</th>\n",
       "      <td>99577.000000</td>\n",
       "      <td>2024.000000</td>\n",
       "      <td>337.000000</td>\n",
       "      <td>845000.000000</td>\n",
       "      <td>49.000000</td>\n",
       "      <td>4.792548e+08</td>\n",
       "      <td>5.603300e+10</td>\n",
       "    </tr>\n",
       "  </tbody>\n",
       "</table>\n",
       "</div>"
      ],
      "text/plain": [
       "         Postal Code     Model Year  Electric Range      Base MSRP  \\\n",
       "count  177861.000000  177866.000000   177866.000000  177866.000000   \n",
       "mean    98172.453506    2020.515512       58.842162    1073.109363   \n",
       "std      2442.450668       2.989384       91.981298    8358.624956   \n",
       "min      1545.000000    1997.000000        0.000000       0.000000   \n",
       "25%     98052.000000    2019.000000        0.000000       0.000000   \n",
       "50%     98122.000000    2022.000000        0.000000       0.000000   \n",
       "75%     98370.000000    2023.000000       75.000000       0.000000   \n",
       "max     99577.000000    2024.000000      337.000000  845000.000000   \n",
       "\n",
       "       Legislative District  DOL Vehicle ID  2020 Census Tract  \n",
       "count         177477.000000    1.778660e+05       1.778610e+05  \n",
       "mean              29.127481    2.202313e+08       5.297672e+10  \n",
       "std               14.892169    7.584987e+07       1.578047e+09  \n",
       "min                1.000000    4.385000e+03       1.001020e+09  \n",
       "25%               18.000000    1.814743e+08       5.303301e+10  \n",
       "50%               33.000000    2.282522e+08       5.303303e+10  \n",
       "75%               42.000000    2.548445e+08       5.305307e+10  \n",
       "max               49.000000    4.792548e+08       5.603300e+10  "
      ]
     },
     "execution_count": 8,
     "metadata": {},
     "output_type": "execute_result"
    }
   ],
   "source": [
    "#Discriptive statistics\n",
    "df.describe()"
   ]
  },
  {
   "cell_type": "code",
   "execution_count": 9,
   "id": "3831883a",
   "metadata": {},
   "outputs": [
    {
     "data": {
      "text/plain": [
       "VIN (1-10)                                             0\n",
       "County                                                 5\n",
       "City                                                   5\n",
       "State                                                  0\n",
       "Postal Code                                            5\n",
       "Model Year                                             0\n",
       "Make                                                   0\n",
       "Model                                                  0\n",
       "Electric Vehicle Type                                  0\n",
       "Clean Alternative Fuel Vehicle (CAFV) Eligibility      0\n",
       "Electric Range                                         0\n",
       "Base MSRP                                              0\n",
       "Legislative District                                 389\n",
       "DOL Vehicle ID                                         0\n",
       "Vehicle Location                                       9\n",
       "Electric Utility                                       5\n",
       "2020 Census Tract                                      5\n",
       "dtype: int64"
      ]
     },
     "execution_count": 9,
     "metadata": {},
     "output_type": "execute_result"
    }
   ],
   "source": [
    "#Check the missing values\n",
    "df.isnull().sum()"
   ]
  },
  {
   "cell_type": "markdown",
   "id": "fc46eda2",
   "metadata": {},
   "source": [
    "The summary reveals serious data quality issues in two critical fields:\n",
    "\n",
    "🔋 Electric Range:\n",
    "\n",
    "Median = 0 and 75% percentile = 75 → At least half the vehicles have no recorded range, likely indicating missing or unreported values.\n",
    "\n",
    "💲 Base MSRP:\n",
    "\n",
    "Mean = $1,073, Median = $0, 75% percentile = $0 → Almost 75% of entries have zero MSRP, which is implausible and signals widespread missing data.\n",
    "\n",
    "⚠️ Key Takeaway:\n",
    "Despite numeric completeness, over half the records have placeholder values (0) for essential fields like range and price, making them unreliable for analysis without imputation or filtering."
   ]
  },
  {
   "cell_type": "code",
   "execution_count": 10,
   "id": "30d2d746",
   "metadata": {},
   "outputs": [
    {
     "data": {
      "text/plain": [
       "np.int64(0)"
      ]
     },
     "execution_count": 10,
     "metadata": {},
     "output_type": "execute_result"
    }
   ],
   "source": [
    "#Finding the dublicates values\n",
    "df.duplicated().sum()"
   ]
  },
  {
   "cell_type": "markdown",
   "id": "4bc7bf13",
   "metadata": {},
   "source": [
    "Based onthe above output there is no duplicate values"
   ]
  }
 ],
 "metadata": {
  "kernelspec": {
   "display_name": "Python 3",
   "language": "python",
   "name": "python3"
  },
  "language_info": {
   "codemirror_mode": {
    "name": "ipython",
    "version": 3
   },
   "file_extension": ".py",
   "mimetype": "text/x-python",
   "name": "python",
   "nbconvert_exporter": "python",
   "pygments_lexer": "ipython3",
   "version": "3.12.10"
  }
 },
 "nbformat": 4,
 "nbformat_minor": 5
}
